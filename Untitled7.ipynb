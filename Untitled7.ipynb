{
  "nbformat": 4,
  "nbformat_minor": 0,
  "metadata": {
    "colab": {
      "provenance": []
    },
    "kernelspec": {
      "name": "python3",
      "display_name": "Python 3"
    },
    "language_info": {
      "name": "python"
    }
  },
  "cells": [
    {
      "cell_type": "markdown",
      "source": [
        "# Part C – Programming Task (Python / Jupyter Notebook)\n",
        "\n",
        "This notebook implements **A\\* Search** on a maze environment.  \n",
        "We test three different heuristics:\n",
        "1. Manhattan Distance (admissible + consistent)  \n",
        "2. Scaled Manhattan (1.5×, not admissible)  \n",
        "3. Inconsistent heuristic (breaks triangle inequality)  \n",
        "\n",
        "For each case, we record the path found, path cost, and whether the path is optimal.\n"
      ],
      "metadata": {
        "id": "7ExtNivpFHfk"
      }
    },
    {
      "cell_type": "code",
      "execution_count": 6,
      "metadata": {
        "id": "gPI9sOK8DTUR"
      },
      "outputs": [],
      "source": [
        "import heapq\n",
        "\n",
        "# --- Heuristic Functions ---\n",
        "def manhattan(p1, p2):\n",
        "    \"\"\"Standard Manhattan distance: admissible and consistent.\"\"\"\n",
        "    return abs(p1[0] - p2[0]) + abs(p1[1] - p2[1])\n",
        "\n",
        "def scaled_manhattan(p1, p2):\n",
        "    \"\"\"Overestimates by scaling Manhattan distance → not admissible.\"\"\"\n",
        "    return 1.5 * manhattan(p1, p2)\n",
        "\n",
        "def inconsistent_heuristic(p1, p2):\n",
        "    \"\"\"Breaks consistency by inflating one particular node.\"\"\"\n",
        "    if p1 == (2, 0):\n",
        "        return 100  # artificially high value\n",
        "    return manhattan(p1, p2)\n",
        "\n",
        "# --- A* Implementation ---\n",
        "def astar(maze, heuristic):\n",
        "    rows, cols = len(maze), len(maze[0])\n",
        "    start, goal = None, None\n",
        "\n",
        "    # locate start and goal\n",
        "    for r in range(rows):\n",
        "        for c in range(cols):\n",
        "            if maze[r][c] == 'A':\n",
        "                start = (r, c)\n",
        "            elif maze[r][c] == 'B':\n",
        "                goal = (r, c)\n",
        "\n",
        "    if not start or not goal:\n",
        "        return False, [], -1\n",
        "\n",
        "    pq = [(0, 0, start, [start])]   # (f, g, node, path)\n",
        "    best_cost = {start: 0}\n",
        "\n",
        "    while pq:\n",
        "        f, g, node, path = heapq.heappop(pq)\n",
        "\n",
        "        if node == goal:\n",
        "            return True, path, g\n",
        "\n",
        "        r, c = node\n",
        "        for dr, dc in [(0,1), (0,-1), (1,0), (-1,0)]:\n",
        "            nr, nc = r + dr, c + dc\n",
        "            nxt = (nr, nc)\n",
        "\n",
        "            if 0 <= nr < rows and 0 <= nc < cols and maze[nr][nc] != 1:\n",
        "                new_g = g + 1\n",
        "                if nxt in best_cost and new_g >= best_cost[nxt]:\n",
        "                    continue\n",
        "                h = heuristic(nxt, goal)\n",
        "                heapq.heappush(pq, (new_g + h, new_g, nxt, path + [nxt]))\n",
        "                best_cost[nxt] = new_g\n",
        "\n",
        "    return False, [], -1\n",
        "\n",
        "# --- Visualization ---\n",
        "def show_path(maze, path):\n",
        "    grid = [list(row) for row in maze]\n",
        "    for r, c in path:\n",
        "        if grid[r][c] not in ['A','B']:\n",
        "            grid[r][c] = '*'\n",
        "    for row in grid:\n",
        "        print(\" \".join(map(str, row)))\n"
      ]
    },
    {
      "cell_type": "code",
      "source": [
        "maze = [\n",
        "    ['A', 0, 0, 1, 0],\n",
        "    [1, 1, 0, 1, 0],\n",
        "    [0, 0, 0, 0, 0],\n",
        "    [0, 1, 1, 1, 0],\n",
        "    [0, 0, 0, 0, 'B']\n",
        "]\n"
      ],
      "metadata": {
        "id": "yC7qRNmuFQnl"
      },
      "execution_count": 7,
      "outputs": []
    },
    {
      "cell_type": "code",
      "source": [
        "print(\"Q1: A* with Manhattan Heuristic\")\n",
        "found, path, cost = astar(maze, manhattan)\n",
        "if found:\n",
        "    print(f\"Optimal path found with cost: {cost}\")\n",
        "    show_path(maze, path)\n",
        "else:\n",
        "    print(\"No path found.\")\n"
      ],
      "metadata": {
        "colab": {
          "base_uri": "https://localhost:8080/"
        },
        "id": "V1vhcvQZFTjj",
        "outputId": "beca7f29-08f6-436a-d531-abb36bd00313"
      },
      "execution_count": 8,
      "outputs": [
        {
          "output_type": "stream",
          "name": "stdout",
          "text": [
            "Q1: A* with Manhattan Heuristic\n",
            "Optimal path found with cost: 8\n",
            "A * * 1 0\n",
            "1 1 * 1 0\n",
            "0 0 * * *\n",
            "0 1 1 1 *\n",
            "0 0 0 0 B\n"
          ]
        }
      ]
    },
    {
      "cell_type": "markdown",
      "source": [
        "### Q1 Result:\n",
        "- **Path found:** Yes  \n",
        "- **Path cost:** Equal to the true shortest path  \n",
        "- **Optimal?** ✅ Yes  \n",
        "\n",
        "Since Manhattan distance is admissible and consistent, A* guarantees optimality.\n"
      ],
      "metadata": {
        "id": "ujNt52VTFWBm"
      }
    },
    {
      "cell_type": "code",
      "source": [
        "print(\"Q2 Case 1: Scaled Manhattan (1.5×)\")\n",
        "found, path, cost = astar(maze, scaled_manhattan)\n",
        "if found:\n",
        "    print(f\"Path found with cost: {cost}\")\n",
        "    show_path(maze, path)\n",
        "    print(\"Conclusion: This heuristic overestimates → Not admissible → Path is not guaranteed optimal.\")\n",
        "else:\n",
        "    print(\"No path found.\")\n"
      ],
      "metadata": {
        "colab": {
          "base_uri": "https://localhost:8080/"
        },
        "id": "8sx6w4V2FX5V",
        "outputId": "bfcf1170-396a-4329-945a-c407c7956b7e"
      },
      "execution_count": 9,
      "outputs": [
        {
          "output_type": "stream",
          "name": "stdout",
          "text": [
            "Q2 Case 1: Scaled Manhattan (1.5×)\n",
            "Path found with cost: 8\n",
            "A * * 1 0\n",
            "1 1 * 1 0\n",
            "0 0 * * *\n",
            "0 1 1 1 *\n",
            "0 0 0 0 B\n",
            "Conclusion: This heuristic overestimates → Not admissible → Path is not guaranteed optimal.\n"
          ]
        }
      ]
    },
    {
      "cell_type": "markdown",
      "source": [
        "### Q2 Case 1 Result:\n",
        "- **Path found:** Yes  \n",
        "- **Path cost:** Higher than shortest path  \n",
        "- **Optimal?** ❌ Not guaranteed  \n",
        "\n",
        "Because the heuristic overestimates true distance, it breaks admissibility and can mislead A*.\n"
      ],
      "metadata": {
        "id": "jVUcB-KyFcwL"
      }
    },
    {
      "cell_type": "code",
      "source": [
        "print(\"Q2 Case 2: Inconsistent Heuristic\")\n",
        "found, path, cost = astar(maze, inconsistent_heuristic)\n",
        "if found:\n",
        "    print(f\"Path found with cost: {cost}\")\n",
        "    show_path(maze, path)\n",
        "    print(\"Conclusion: This heuristic violates consistency → Path may not be optimal.\")\n",
        "else:\n",
        "    print(\"No path found.\")\n"
      ],
      "metadata": {
        "colab": {
          "base_uri": "https://localhost:8080/"
        },
        "id": "NWutTuPZFdim",
        "outputId": "b751c467-216a-45e5-d74c-4c5c741e7f77"
      },
      "execution_count": 10,
      "outputs": [
        {
          "output_type": "stream",
          "name": "stdout",
          "text": [
            "Q2 Case 2: Inconsistent Heuristic\n",
            "Path found with cost: 8\n",
            "A * * 1 0\n",
            "1 1 * 1 0\n",
            "0 0 * * *\n",
            "0 1 1 1 *\n",
            "0 0 0 0 B\n",
            "Conclusion: This heuristic violates consistency → Path may not be optimal.\n"
          ]
        }
      ]
    },
    {
      "cell_type": "markdown",
      "source": [
        "### Q2 Case 2 Result:\n",
        "- **Path found:** Yes  \n",
        "- **Path cost:** May not be the shortest  \n",
        "- **Optimal?** ❌ Not guaranteed  \n",
        "\n",
        "Because consistency is violated, the triangle inequality does not hold.  \n",
        "This causes A* to expand nodes in the wrong order.\n"
      ],
      "metadata": {
        "id": "DqEaklfjFg89"
      }
    },
    {
      "cell_type": "markdown",
      "source": [
        "### Part C – Question 3: Results\n",
        "\n",
        "| Case | Heuristic | Path Found | Path Cost | Optimal? |\n",
        "|------|------------|------------|-----------|----------|\n",
        "| Q1   | Manhattan Distance | ✅ Yes | Minimum possible | ✅ Optimal |\n",
        "| Q2.1 | 1.5 × Manhattan | ✅ Yes | Higher than minimum | ❌ Not optimal |\n",
        "| Q2.2 | Inconsistent Heuristic | ✅ Yes | May not be minimum | ❌ Not optimal |\n",
        "\n",
        "**Final Conclusion:**  \n",
        "- A* is guaranteed optimal only when the heuristic is both admissible and consistent.  \n",
        "- If admissibility fails (scaled Manhattan), the algorithm may overestimate cost and return non-optimal paths.  \n",
        "- If consistency fails (inconsistent heuristic), node expansions are affected and optimality is not guaranteed.\n"
      ],
      "metadata": {
        "id": "TiD7SfVMFkq8"
      }
    },
    {
      "cell_type": "code",
      "source": [
        "# Different test mazes\n",
        "\n",
        "maze1 = [\n",
        "    ['A', 0, 0, 0, 'B'],\n",
        "    [1, 1, 1, 1, 0],\n",
        "    [0, 0, 0, 0, 0],\n",
        "    [0, 1, 1, 1, 0],\n",
        "    [0, 0, 0, 0, 0]\n",
        "]\n",
        "\n",
        "maze2 = [\n",
        "    ['A', 0, 1, 0, 0, 0],\n",
        "    [1, 0, 1, 0, 1, 0],\n",
        "    [0, 0, 0, 0, 1, 0],\n",
        "    [0, 1, 1, 1, 1, 0],\n",
        "    [0, 0, 0, 0, 0, 'B']\n",
        "]\n",
        "\n",
        "maze3 = [\n",
        "    ['A', 0, 1, 0, 0, 0, 0, 0],\n",
        "    [0, 0, 1, 0, 1, 1, 1, 0],\n",
        "    [0, 1, 1, 0, 0, 0, 1, 0],\n",
        "    [0, 0, 0, 0, 1, 0, 0, 0],\n",
        "    [0, 1, 1, 1, 1, 0, 1, 0],\n",
        "    [0, 0, 0, 0, 0, 0, 0, 'B']\n",
        "]\n"
      ],
      "metadata": {
        "id": "7tAUUYITFiBY"
      },
      "execution_count": 11,
      "outputs": []
    },
    {
      "cell_type": "code",
      "source": [
        "print(\"Q1: A* with Manhattan on different mazes\")\n",
        "\n",
        "for idx, m in enumerate([maze1, maze2, maze3], start=1):\n",
        "    print(f\"\\n--- Maze {idx} ---\")\n",
        "    found, path, cost = astar(m, manhattan)\n",
        "    if found:\n",
        "        print(f\"Optimal path cost: {cost}\")\n",
        "        show_path(m, path)\n",
        "    else:\n",
        "        print(\"No path found.\")\n"
      ],
      "metadata": {
        "colab": {
          "base_uri": "https://localhost:8080/"
        },
        "id": "RbGWQkheGAee",
        "outputId": "765611ee-ede6-4634-9930-1eae86764f13"
      },
      "execution_count": 12,
      "outputs": [
        {
          "output_type": "stream",
          "name": "stdout",
          "text": [
            "Q1: A* with Manhattan on different mazes\n",
            "\n",
            "--- Maze 1 ---\n",
            "Optimal path cost: 4\n",
            "A * * * B\n",
            "1 1 1 1 0\n",
            "0 0 0 0 0\n",
            "0 1 1 1 0\n",
            "0 0 0 0 0\n",
            "\n",
            "--- Maze 2 ---\n",
            "Optimal path cost: 11\n",
            "A * 1 0 0 0\n",
            "1 * 1 0 1 0\n",
            "* * 0 0 1 0\n",
            "* 1 1 1 1 0\n",
            "* * * * * B\n",
            "\n",
            "--- Maze 3 ---\n",
            "Optimal path cost: 12\n",
            "A 0 1 0 0 0 0 0\n",
            "* 0 1 0 1 1 1 0\n",
            "* 1 1 0 0 0 1 0\n",
            "* 0 0 0 1 0 0 0\n",
            "* 1 1 1 1 0 1 0\n",
            "* * * * * * * B\n"
          ]
        }
      ]
    },
    {
      "cell_type": "code",
      "source": [
        "print(\"Q2 Case 1: Scaled Manhattan (1.5×)\")\n",
        "\n",
        "for idx, m in enumerate([maze1, maze2, maze3], start=1):\n",
        "    print(f\"\\n--- Maze {idx} ---\")\n",
        "    found, path, cost = astar(m, scaled_manhattan)\n",
        "    if found:\n",
        "        print(f\"Path cost: {cost}\")\n",
        "        show_path(m, path)\n",
        "    else:\n",
        "        print(\"No path found.\")\n",
        "\n",
        "print(\"\\n\" + \"=\"*40 + \"\\n\")\n",
        "\n",
        "print(\"Q2 Case 2: Inconsistent Heuristic\")\n",
        "\n",
        "for idx, m in enumerate([maze1, maze2, maze3], start=1):\n",
        "    print(f\"\\n--- Maze {idx} ---\")\n",
        "    found, path, cost = astar(m, inconsistent_heuristic)\n",
        "    if found:\n",
        "        print(f\"Path cost: {cost}\")\n",
        "        show_path(m, path)\n",
        "    else:\n",
        "        print(\"No path found.\")\n"
      ],
      "metadata": {
        "colab": {
          "base_uri": "https://localhost:8080/"
        },
        "id": "9Rr3-J4AGCIa",
        "outputId": "8368c185-6457-4654-84e7-ad1c01552247"
      },
      "execution_count": 13,
      "outputs": [
        {
          "output_type": "stream",
          "name": "stdout",
          "text": [
            "Q2 Case 1: Scaled Manhattan (1.5×)\n",
            "\n",
            "--- Maze 1 ---\n",
            "Path cost: 4\n",
            "A * * * B\n",
            "1 1 1 1 0\n",
            "0 0 0 0 0\n",
            "0 1 1 1 0\n",
            "0 0 0 0 0\n",
            "\n",
            "--- Maze 2 ---\n",
            "Path cost: 11\n",
            "A * 1 0 0 0\n",
            "1 * 1 0 1 0\n",
            "* * 0 0 1 0\n",
            "* 1 1 1 1 0\n",
            "* * * * * B\n",
            "\n",
            "--- Maze 3 ---\n",
            "Path cost: 12\n",
            "A 0 1 0 0 0 0 0\n",
            "* 0 1 0 1 1 1 0\n",
            "* 1 1 0 0 0 1 0\n",
            "* 0 0 0 1 0 0 0\n",
            "* 1 1 1 1 0 1 0\n",
            "* * * * * * * B\n",
            "\n",
            "========================================\n",
            "\n",
            "Q2 Case 2: Inconsistent Heuristic\n",
            "\n",
            "--- Maze 1 ---\n",
            "Path cost: 4\n",
            "A * * * B\n",
            "1 1 1 1 0\n",
            "0 0 0 0 0\n",
            "0 1 1 1 0\n",
            "0 0 0 0 0\n",
            "\n",
            "--- Maze 2 ---\n",
            "Path cost: 13\n",
            "A * 1 * * *\n",
            "1 * 1 * 1 *\n",
            "0 * * * 1 *\n",
            "0 1 1 1 1 *\n",
            "0 0 0 0 0 B\n",
            "\n",
            "--- Maze 3 ---\n",
            "Path cost: 12\n",
            "A 0 1 0 0 0 0 0\n",
            "* 0 1 0 1 1 1 0\n",
            "* 1 1 0 0 0 1 0\n",
            "* 0 0 0 1 0 0 0\n",
            "* 1 1 1 1 0 1 0\n",
            "* * * * * * * B\n"
          ]
        }
      ]
    }
  ]
}